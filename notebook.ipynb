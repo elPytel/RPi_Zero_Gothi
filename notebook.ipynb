{
 "cells": [
  {
   "cell_type": "code",
   "execution_count": 13,
   "id": "4f25590a",
   "metadata": {},
   "outputs": [
    {
     "name": "stdout",
     "output_type": "stream",
     "text": [
      "Defaulting to user installation because normal site-packages is not writeable\n",
      "Requirement already satisfied: pytest in /home/pytel/.local/lib/python3.12/site-packages (from -r ./requirements.txt (line 1)) (8.3.5)\n",
      "Collecting argparse (from -r ./requirements.txt (line 2))\n",
      "  Using cached argparse-1.4.0-py2.py3-none-any.whl.metadata (2.8 kB)\n",
      "Requirement already satisfied: Pillow in /home/pytel/.local/lib/python3.12/site-packages (from -r ./requirements.txt (line 3)) (11.2.1)\n",
      "Requirement already satisfied: basic-colors in /home/pytel/.local/lib/python3.12/site-packages (from -r ./requirements.txt (line 4)) (0.1.2)\n",
      "Requirement already satisfied: iniconfig in /home/pytel/.local/lib/python3.12/site-packages (from pytest->-r ./requirements.txt (line 1)) (2.1.0)\n",
      "Requirement already satisfied: packaging in /home/pytel/.local/lib/python3.12/site-packages (from pytest->-r ./requirements.txt (line 1)) (25.0)\n",
      "Requirement already satisfied: pluggy<2,>=1.5 in /home/pytel/.local/lib/python3.12/site-packages (from pytest->-r ./requirements.txt (line 1)) (1.5.0)\n",
      "Using cached argparse-1.4.0-py2.py3-none-any.whl (23 kB)\n",
      "Installing collected packages: argparse\n",
      "Successfully installed argparse-1.4.0\n"
     ]
    }
   ],
   "source": [
    "import sys\n",
    "import xml.etree.ElementTree as ET\n",
    "\n",
    "!{sys.executable} -m pip install --break-system-packages -r ./requirements.txt"
   ]
  },
  {
   "cell_type": "code",
   "execution_count": 14,
   "id": "c8e05353",
   "metadata": {},
   "outputs": [],
   "source": [
    "import os\n",
    "import time\n",
    "import numpy as np\n",
    "import matplotlib.pyplot as plt\n",
    "from basic_colors import *\n",
    "\n",
    "from PIL import Image, ImageDraw, ImageFont"
   ]
  },
  {
   "cell_type": "code",
   "execution_count": 7,
   "id": "fc73fa9d",
   "metadata": {},
   "outputs": [],
   "source": [
    "def is_raspberry_pi():\n",
    "    try:\n",
    "        with open('/proc/cpuinfo', 'r') as f:\n",
    "            cpuinfo = f.read()\n",
    "        return 'Raspberry Pi' in cpuinfo or 'BCM' in cpuinfo\n",
    "    except FileNotFoundError:\n",
    "        return False\n",
    "\n",
    "DEBUG = False\n",
    "RPI=is_raspberry_pi()\n",
    "ASSETS = \"assets\"\n",
    "FONTS = \"fonts\"\n",
    "FONT = 'Font.ttf'\n",
    "\n",
    "LCD_WIDTH   = 128 #LCD width\n",
    "LCD_HEIGHT  = 64  #LCD height\n",
    "\n",
    "import SH1106_mock as SH1106\n",
    "from INA219_mock import *\n",
    "   \n",
    "ina219 = INA219(addr=0x43)"
   ]
  },
  {
   "cell_type": "code",
   "execution_count": null,
   "id": "957f3497",
   "metadata": {},
   "outputs": [
    {
     "data": {
      "image/png": "[encoded data removed]",
      "text/plain": [
       "<Figure size 640x480 with 1 Axes>"
      ]
     },
     "metadata": {},
     "output_type": "display_data"
    }
   ],
   "source": [
    "img_path = os.path.join('documentation', 'images', 'loading.png')\n",
    "img = Image.open(img_path)\n",
    "img = img.resize((LCD_WIDTH, LCD_HEIGHT))  # Změna velikosti na rozměry displeje\n",
    "img = img.convert('L')  # Převod na stupně šedi\n",
    "trashold = 50\n",
    "img = img.point(lambda x: 0 if x < trashold else 255, '1')\n",
    "img = img.convert('1') # Převod na jednobitový formát (černobílý)\n",
    "\n",
    "# plot the image on the display\n",
    "plt.imshow(img, cmap='gray', vmin=0, vmax=255)\n",
    "plt.show()"
   ]
  },
  {
   "cell_type": "code",
   "execution_count": null,
   "id": "f0b02e14",
   "metadata": {},
   "outputs": [],
   "source": []
  }
 ],
 "metadata": {
  "kernelspec": {
   "display_name": "Python 3",
   "language": "python",
   "name": "python3"
  },
  "language_info": {
   "codemirror_mode": {
    "name": "ipython",
    "version": 3
   },
   "file_extension": ".py",
   "mimetype": "text/x-python",
   "name": "python",
   "nbconvert_exporter": "python",
   "pygments_lexer": "ipython3",
   "version": "3.12.3"
  }
 },
 "nbformat": 4,
 "nbformat_minor": 5
}
