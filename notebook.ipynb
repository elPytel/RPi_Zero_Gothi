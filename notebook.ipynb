{
 "cells": [
  {
   "cell_type": "code",
   "execution_count": 1,
   "id": "4f25590a",
   "metadata": {},
   "outputs": [
    {
     "name": "stdout",
     "output_type": "stream",
     "text": [
      "Defaulting to user installation because normal site-packages is not writeable\n",
      "Requirement already satisfied: pytest in /home/pytel/.local/lib/python3.12/site-packages (from -r ./requirements.txt (line 1)) (8.3.5)\n",
      "Collecting argparse (from -r ./requirements.txt (line 2))\n",
      "  Using cached argparse-1.4.0-py2.py3-none-any.whl.metadata (2.8 kB)\n",
      "Requirement already satisfied: Pillow in /home/pytel/.local/lib/python3.12/site-packages (from -r ./requirements.txt (line 3)) (11.2.1)\n",
      "Requirement already satisfied: basic-colors in /home/pytel/.local/lib/python3.12/site-packages (from -r ./requirements.txt (line 4)) (0.1.2)\n",
      "Requirement already satisfied: iniconfig in /home/pytel/.local/lib/python3.12/site-packages (from pytest->-r ./requirements.txt (line 1)) (2.1.0)\n",
      "Requirement already satisfied: packaging in /home/pytel/.local/lib/python3.12/site-packages (from pytest->-r ./requirements.txt (line 1)) (25.0)\n",
      "Requirement already satisfied: pluggy<2,>=1.5 in /home/pytel/.local/lib/python3.12/site-packages (from pytest->-r ./requirements.txt (line 1)) (1.5.0)\n",
      "Using cached argparse-1.4.0-py2.py3-none-any.whl (23 kB)\n",
      "Installing collected packages: argparse\n",
      "Successfully installed argparse-1.4.0\n"
     ]
    }
   ],
   "source": [
    "import sys\n",
    "import xml.etree.ElementTree as ET\n",
    "\n",
    "!{sys.executable} -m pip install --break-system-packages -r ./requirements.txt"
   ]
  },
  {
   "cell_type": "code",
   "execution_count": 2,
   "id": "c8e05353",
   "metadata": {},
   "outputs": [],
   "source": [
    "import os\n",
    "import time\n",
    "import numpy as np\n",
    "import matplotlib.pyplot as plt\n",
    "from basic_colors import *\n",
    "\n",
    "from PIL import Image, ImageDraw, ImageFont"
   ]
  },
  {
   "cell_type": "code",
   "execution_count": 3,
   "id": "fc73fa9d",
   "metadata": {},
   "outputs": [],
   "source": [
    "def is_raspberry_pi():\n",
    "    try:\n",
    "        with open('/proc/cpuinfo', 'r') as f:\n",
    "            cpuinfo = f.read()\n",
    "        return 'Raspberry Pi' in cpuinfo or 'BCM' in cpuinfo\n",
    "    except FileNotFoundError:\n",
    "        return False\n",
    "\n",
    "DEBUG = False\n",
    "RPI=is_raspberry_pi()\n",
    "ASSETS = \"assets\"\n",
    "FONTS = \"fonts\"\n",
    "FONT = 'Font.ttf'\n",
    "\n",
    "LCD_WIDTH   = 128 #LCD width\n",
    "LCD_HEIGHT  = 64  #LCD height\n",
    "\n",
    "import SH1106_mock as SH1106\n",
    "from INA219_mock import *\n",
    "   \n",
    "ina219 = INA219(addr=0x43)"
   ]
  },
  {
   "cell_type": "code",
   "execution_count": 4,
   "id": "957f3497",
   "metadata": {},
   "outputs": [
    {
     "data": {
      "image/png": "[encoded data removed]",
      "text/plain": [
       "<Figure size 640x480 with 1 Axes>"
      ]
     },
     "metadata": {},
     "output_type": "display_data"
    }
   ],
   "source": [
    "img_path = os.path.join('documentation', 'images', 'loading.png')\n",
    "img = Image.open(img_path)\n",
    "img = img.resize((LCD_WIDTH, LCD_HEIGHT))  # Změna velikosti na rozměry displeje\n",
    "img = img.convert('L')  # Převod na stupně šedi\n",
    "trashold = 50\n",
    "img = img.point(lambda x: 0 if x < trashold else 255, '1')\n",
    "img = img.convert('1') # Převod na jednobitový formát (černobílý)\n",
    "\n",
    "# plot the image on the display\n",
    "plt.imshow(img, cmap='gray', vmin=0, vmax=255)\n",
    "plt.show()"
   ]
  },
  {
   "cell_type": "code",
   "execution_count": null,
   "id": "f0b02e14",
   "metadata": {},
   "outputs": [
    {
     "data": {
      "image/png": "[encoded data removed]",
      "text/plain": [
       "<Figure size 640x480 with 1 Axes>"
      ]
     },
     "metadata": {},
     "output_type": "display_data"
    },
    {
     "name": "stdout",
     "output_type": "stream",
     "text": [
      "Baterry ico shape:\n",
      "(26, 8)\n"
     ]
    }
   ],
   "source": [
    "# status bar \n",
    "\n",
    "def frame_image(img, padding=2):\n",
    "    \"\"\"\n",
    "    Add a frame to the image.\n",
    "    \"\"\"\n",
    "    # Create a new image with padding\n",
    "    new_width = img.width + 2 * padding\n",
    "    new_height = img.height + 2 * padding\n",
    "    new_img = Image.new('1', (new_width, new_height), 0)\n",
    "    # black rectangle\n",
    "    draw = ImageDraw.Draw(new_img)\n",
    "    draw.rectangle([0, 0, new_width-1, new_height-1], fill=1, outline=0)\n",
    "    # Paste the original image onto the new image\n",
    "    new_img.paste(img, (padding, padding))\n",
    "    return new_img\n",
    "\n",
    "def battery_add_remaining_capacity(battery, remaining_capacity):\n",
    "    \"\"\"\n",
    "    Add remaining capacity to the battery image.\n",
    "    \"\"\"\n",
    "    # add rectangle to battery image\n",
    "    new_img = Image.new('1', (battery.width, battery.height), 0)\n",
    "    draw = ImageDraw.Draw(new_img)\n",
    "    # Paste the original image onto the new image\n",
    "    new_img.paste(battery, (0, 0))\n",
    "    # Draw the remaining capacity\n",
    "    draw.rectangle([2, 2, int((battery.width-5) * (remaining_capacity / 100)), battery.height-3], fill=0, outline=0)\n",
    "    return new_img\n",
    "\n",
    "# 'Common'\n",
    "status_bar_path = os.path.join(ASSETS, 'icons', 'StatusBar')\n",
    "canvas = Image.new('1', (LCD_WIDTH, int(LCD_HEIGHT/4)), 1)\n",
    "background = Image.open(os.path.join(status_bar_path, 'Background_128x11.png'))\n",
    "canvas.paste(background, (0, 0))\n",
    "\n",
    "# 'Battery'\n",
    "battery = Image.open(os.path.join(status_bar_path, 'Battery_26x8.png'))\n",
    "battery = battery_add_remaining_capacity(battery, 34)\n",
    "#battery = battery_add_remaining_capacity(battery, 100)\n",
    "canvas.paste(frame_image(battery), (98, 0))\n",
    "plt.imshow(canvas, cmap='gray', vmin=0, vmax=255)\n",
    "plt.show()\n"
   ]
  }
 ],
 "metadata": {
  "kernelspec": {
   "display_name": "Python 3",
   "language": "python",
   "name": "python3"
  },
  "language_info": {
   "codemirror_mode": {
    "name": "ipython",
    "version": 3
   },
   "file_extension": ".py",
   "mimetype": "text/x-python",
   "name": "python",
   "nbconvert_exporter": "python",
   "pygments_lexer": "ipython3",
   "version": "3.12.3"
  }
 },
 "nbformat": 4,
 "nbformat_minor": 5
}
